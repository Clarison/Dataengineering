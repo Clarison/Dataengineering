{
  "nbformat": 4,
  "nbformat_minor": 0,
  "metadata": {
    "colab": {
      "provenance": [],
      "authorship_tag": "ABX9TyMlIaYmRqAESLsrVNvQsWB3",
      "include_colab_link": true
    },
    "kernelspec": {
      "name": "python3",
      "display_name": "Python 3"
    },
    "language_info": {
      "name": "python"
    }
  },
  "cells": [
    {
      "cell_type": "markdown",
      "metadata": {
        "id": "view-in-github",
        "colab_type": "text"
      },
      "source": [
        "<a href=\"https://colab.research.google.com/github/Clarison/Dataengineering/blob/main/dataendinpython.ipynb\" target=\"_parent\"><img src=\"https://colab.research.google.com/assets/colab-badge.svg\" alt=\"Open In Colab\"/></a>"
      ]
    },
    {
      "cell_type": "code",
      "source": [
        "from google.colab import auth\n",
        "auth.authenticate_user()\n",
        "from google.cloud import bigquery\n",
        "import pandas as pd\n",
        "import pandas_gbq\n",
        "\n"
      ],
      "metadata": {
        "id": "Tyk06Tj8Kzne"
      },
      "execution_count": 1,
      "outputs": []
    },
    {
      "cell_type": "code",
      "source": [
        "project_id = 'lab7-381519'\n",
        "dataset_id=\"7375\""
      ],
      "metadata": {
        "id": "DcPBxIJS5pbG"
      },
      "execution_count": 2,
      "outputs": []
    },
    {
      "cell_type": "code",
      "source": [
        "df_customer=pd.read_csv('olist_customers_dataset.csv')\n",
        "\n",
        "#set City to caps\n",
        "df_customer['customer_city'] = df_customer['customer_city'].str.title()\n",
        "\n",
        "# Set the name of your table and your Pandas DataFrame\n",
        "table_name = 'olist_customers_dataset'\n",
        "# Upload your DataFrame to BigQuery\n",
        "pandas_gbq.to_gbq(df_customer, f'{dataset_id}.{table_name}', project_id=project_id, if_exists='replace')"
      ],
      "metadata": {
        "colab": {
          "base_uri": "https://localhost:8080/"
        },
        "id": "yq1ZrBMOTIUU",
        "outputId": "f5f2efdc-0194-41cf-8551-e6bae71c8451"
      },
      "execution_count": 3,
      "outputs": [
        {
          "output_type": "stream",
          "name": "stderr",
          "text": [
            "100%|██████████| 1/1 [00:00<00:00, 6955.73it/s]\n"
          ]
        }
      ]
    },
    {
      "cell_type": "code",
      "source": [
        "df=pd.read_csv('olist_geolocation_dataset.csv')\n",
        "\n",
        "# Filter the DataFrame to include only rows where \"geolocation_lat\" is within the desired range\n",
        "filtered_df = df[(df[\"geolocation_lat\"] >= -33.8688) & (df[\"geolocation_lat\"] <= 5.2423)]\n",
        "\n",
        "# Filter the DataFrame to include only rows where \"geolocation_lng\" is within the desired range\n",
        "filtered_df = filtered_df[(filtered_df[\"geolocation_lng\"] >= -73.9877) & (filtered_df[\"geolocation_lng\"] <= -34.7934)]\n",
        "\n",
        "# Set the name of your table and your Pandas DataFrame\n",
        "table_name = 'olist_geolocation_dataset'\n",
        "# Upload your DataFrame to BigQuery\n",
        "pandas_gbq.to_gbq(filtered_df, f'{dataset_id}.{table_name}', project_id=project_id, if_exists='replace')\n"
      ],
      "metadata": {
        "colab": {
          "base_uri": "https://localhost:8080/"
        },
        "id": "bzvrReIrymJU",
        "outputId": "248031be-a98d-4a7b-d666-f59004202720"
      },
      "execution_count": 4,
      "outputs": [
        {
          "output_type": "stream",
          "name": "stderr",
          "text": [
            "100%|██████████| 1/1 [00:00<00:00, 1846.08it/s]\n"
          ]
        }
      ]
    },
    {
      "cell_type": "code",
      "source": [
        "df=pd.read_csv('olist_order_items_dataset.csv')\n",
        "# Set the name of your table and your Pandas DataFrame\n",
        "table_name = 'olist_order_items_dataset'\n",
        "# Upload your DataFrame to BigQuery\n",
        "pandas_gbq.to_gbq(df, f'{dataset_id}.{table_name}', project_id=project_id, if_exists='replace')"
      ],
      "metadata": {
        "colab": {
          "base_uri": "https://localhost:8080/"
        },
        "id": "fwVz9jjuWTmK",
        "outputId": "cfc0b60d-b1b0-404a-85f3-701501b0cd4e"
      },
      "execution_count": 5,
      "outputs": [
        {
          "output_type": "stream",
          "name": "stderr",
          "text": [
            "100%|██████████| 1/1 [00:00<00:00, 2511.56it/s]\n"
          ]
        }
      ]
    },
    {
      "cell_type": "code",
      "source": [
        "df=pd.read_csv('olist_order_payments_dataset.csv')\n",
        "\n",
        "\n",
        "#creating minimum payment as 0\n",
        "df = df[(df[\"payment_value\"] >= 0.0)] \n",
        "\n",
        "\n",
        "# Set the name of your table and your Pandas DataFrame\n",
        "table_name = 'olist_order_payments_dataset'\n",
        "\n",
        "# Upload your DataFrame to BigQuery\n",
        "pandas_gbq.to_gbq(df, f'{dataset_id}.{table_name}', project_id=project_id, if_exists='replace')\n"
      ],
      "metadata": {
        "colab": {
          "base_uri": "https://localhost:8080/"
        },
        "id": "5gm6QHa8WVqt",
        "outputId": "763f9695-c500-4510-d172-0b9d02c332a5"
      },
      "execution_count": 6,
      "outputs": [
        {
          "output_type": "stream",
          "name": "stderr",
          "text": [
            "100%|██████████| 1/1 [00:00<00:00, 1722.51it/s]\n"
          ]
        }
      ]
    },
    {
      "cell_type": "code",
      "source": [
        "df=pd.read_csv('olist_order_reviews_dataset.csv')\n",
        "\n",
        "# filter DataFrame based on review_score\n",
        "df = df[df['review_score'].between(1, 5)]\n",
        "\n",
        "\n",
        "# Set the name of your table and your Pandas DataFrame\n",
        "table_name = 'olist_order_reviews_dataset'\n",
        "\n",
        "# Upload your DataFrame to BigQuery\n",
        "pandas_gbq.to_gbq(df, f'{dataset_id}.{table_name}', project_id=project_id, if_exists='replace')"
      ],
      "metadata": {
        "colab": {
          "base_uri": "https://localhost:8080/"
        },
        "id": "EHhoS6NpWWCj",
        "outputId": "ad4f93fc-a725-4541-b117-6fbafac21d22"
      },
      "execution_count": 7,
      "outputs": [
        {
          "output_type": "stream",
          "name": "stderr",
          "text": [
            "100%|██████████| 1/1 [00:00<00:00, 1853.43it/s]\n"
          ]
        }
      ]
    },
    {
      "cell_type": "code",
      "source": [
        "df=pd.read_csv('olist_orders_dataset.csv')\n",
        "\n",
        "# Set the name of your table and your Pandas DataFrame\n",
        "table_name = 'olist_orders_dataset'\n",
        "\n",
        "# Upload your DataFrame to BigQuery\n",
        "pandas_gbq.to_gbq(df, f'{dataset_id}.{table_name}', project_id=project_id, if_exists='replace')"
      ],
      "metadata": {
        "colab": {
          "base_uri": "https://localhost:8080/"
        },
        "id": "owtx6Ca7WWVk",
        "outputId": "e35cd20e-523f-4479-be47-c1c5ffff01b3"
      },
      "execution_count": 8,
      "outputs": [
        {
          "output_type": "stream",
          "name": "stderr",
          "text": [
            "100%|██████████| 1/1 [00:00<00:00, 2341.88it/s]\n"
          ]
        }
      ]
    },
    {
      "cell_type": "code",
      "source": [
        "df=pd.read_csv('olist_products_dataset.csv')\n",
        "\n",
        "# Set the name of your table and your Pandas DataFrame\n",
        "table_name = 'olist_products_dataset'\n",
        "\n",
        "# Upload your DataFrame to BigQuery\n",
        "pandas_gbq.to_gbq(df, f'{dataset_id}.{table_name}', project_id=project_id, if_exists='replace')"
      ],
      "metadata": {
        "colab": {
          "base_uri": "https://localhost:8080/"
        },
        "id": "1kVqQgOXWWk7",
        "outputId": "06d51363-0046-4ce7-d20e-45f3b238c42c"
      },
      "execution_count": 9,
      "outputs": [
        {
          "output_type": "stream",
          "name": "stderr",
          "text": [
            "100%|██████████| 1/1 [00:00<00:00, 1839.61it/s]\n"
          ]
        }
      ]
    },
    {
      "cell_type": "code",
      "source": [
        "df=pd.read_csv('olist_sellers_dataset.csv')\n",
        "# Set the name of your table and your Pandas DataFrame\n",
        "\n",
        "#set City to caps\n",
        "df['seller_city'] = df['seller_city'].str.title()\n",
        "\n",
        "table_name = 'olist_sellers_dataset'\n",
        "# Upload your DataFrame to BigQuery\n",
        "\n",
        "pandas_gbq.to_gbq(df, f'{dataset_id}.{table_name}', project_id=project_id, if_exists='replace')"
      ],
      "metadata": {
        "colab": {
          "base_uri": "https://localhost:8080/"
        },
        "id": "veaA9vWIWW0m",
        "outputId": "a6989146-b28a-4020-f4a3-f90aa6c3dd6e"
      },
      "execution_count": 10,
      "outputs": [
        {
          "output_type": "stream",
          "name": "stderr",
          "text": [
            "100%|██████████| 1/1 [00:00<00:00, 2786.91it/s]\n"
          ]
        }
      ]
    },
    {
      "cell_type": "code",
      "source": [
        "df=pd.read_csv('product_category_name_translation.csv')\n",
        "# Set the name of your table and your Pandas DataFrame\n",
        "\n",
        "\n",
        "table_name = 'product_category_name_translation'\n",
        "# Upload your DataFrame to BigQuery\n",
        "\n",
        "pandas_gbq.to_gbq(df, f'{dataset_id}.{table_name}', project_id=project_id, if_exists='replace')"
      ],
      "metadata": {
        "colab": {
          "base_uri": "https://localhost:8080/"
        },
        "id": "YdONAOnR3d3a",
        "outputId": "78fbf964-12ec-44e0-b804-42fe640a9df9"
      },
      "execution_count": 11,
      "outputs": [
        {
          "output_type": "stream",
          "name": "stderr",
          "text": [
            "100%|██████████| 1/1 [00:00<00:00, 1567.38it/s]\n"
          ]
        }
      ]
    }
  ]
}