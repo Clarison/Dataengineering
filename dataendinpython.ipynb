{
  "nbformat": 4,
  "nbformat_minor": 0,
  "metadata": {
    "colab": {
      "provenance": [],
      "authorship_tag": "ABX9TyOxFdC37WbzxvGV9ASUspwz",
      "include_colab_link": true
    },
    "kernelspec": {
      "name": "python3",
      "display_name": "Python 3"
    },
    "language_info": {
      "name": "python"
    }
  },
  "cells": [
    {
      "cell_type": "markdown",
      "metadata": {
        "id": "view-in-github",
        "colab_type": "text"
      },
      "source": [
        "<a href=\"https://colab.research.google.com/github/Clarison/Dataengineering/blob/main/dataendinpython.ipynb\" target=\"_parent\"><img src=\"https://colab.research.google.com/assets/colab-badge.svg\" alt=\"Open In Colab\"/></a>"
      ]
    },
    {
      "cell_type": "code",
      "execution_count": null,
      "metadata": {
        "id": "p9Rtb2XhKQUA"
      },
      "outputs": [],
      "source": [
        "pip install google-cloud-bigquery\n"
      ]
    },
    {
      "cell_type": "code",
      "source": [
        "from google.colab import auth\n",
        "auth.authenticate_user()\n",
        "\n"
      ],
      "metadata": {
        "id": "Tyk06Tj8Kzne"
      },
      "execution_count": 5,
      "outputs": []
    },
    {
      "cell_type": "code",
      "source": [
        "project_id = 'lab7-381519'\n",
        "dataset_id=\"7375\""
      ],
      "metadata": {
        "id": "GSltnaWVOumh"
      },
      "execution_count": 6,
      "outputs": []
    },
    {
      "cell_type": "code",
      "source": [
        "from google.cloud import bigquery\n",
        "client = bigquery.Client(project=project_id)\n",
        "dataset_ref = client.dataset(dataset_id, project=\"lab7-381519\")\n",
        "dataset = client.get_dataset(dataset_ref)\n",
        "\n",
        "# Construct a reference to the BigQuery table you want to query\n",
        "table_ref = client.dataset(dataset_id).table('customer')\n",
        "\n",
        "# Construct a SQL query\n",
        "query = \"\"\"\n",
        "    SELECT * FROM `lab7-381519.7375.customer` LIMIT 10;\n",
        "\"\"\"\n",
        "\n",
        "# Use the client object to submit the query and fetch the results\n",
        "query_job = client.query(query)\n",
        "results = query_job.result()\n",
        "\n",
        "# Print the results\n",
        "for row in results:\n",
        "    print(row)"
      ],
      "metadata": {
        "colab": {
          "base_uri": "https://localhost:8080/"
        },
        "id": "yYzO_000OwCH",
        "outputId": "2e33ef8f-824b-4acc-ac62-52cf2b23ec30"
      },
      "execution_count": 7,
      "outputs": [
        {
          "output_type": "stream",
          "name": "stdout",
          "text": [
            "Row((1, 3, 'Kelly Key', 'Venus@adipiscing.edu', datetime.date(2017, 1, 4), '908-424-2890', datetime.date(1950, 5, 29), 'M', 1950), {'customer_id': 0, 'home_store': 1, 'customer_first_name': 2, 'customer_email': 3, 'customer_since': 4, 'loyalty_card_number': 5, 'birthdate': 6, 'gender': 7, 'birth_year': 8})\n",
            "Row((3, 3, 'Elvis Cardenas', 'Brianna@tellus.edu', datetime.date(2017, 1, 10), '459-375-9187', datetime.date(1950, 9, 30), 'M', 1950), {'customer_id': 0, 'home_store': 1, 'customer_first_name': 2, 'customer_email': 3, 'customer_since': 4, 'loyalty_card_number': 5, 'birthdate': 6, 'gender': 7, 'birth_year': 8})\n",
            "Row((305, 3, 'Brooke Munoz', 'William@montes.com', datetime.date(2017, 1, 12), '573-552-0754', datetime.date(1950, 11, 16), 'F', 1950), {'customer_id': 0, 'home_store': 1, 'customer_first_name': 2, 'customer_email': 3, 'customer_since': 4, 'loyalty_card_number': 5, 'birthdate': 6, 'gender': 7, 'birth_year': 8})\n",
            "Row((303, 3, 'Raya Hampton', 'Martina@malesuada.com', datetime.date(2017, 1, 8), '478-762-8984', datetime.date(1950, 8, 14), 'F', 1950), {'customer_id': 0, 'home_store': 1, 'customer_first_name': 2, 'customer_email': 3, 'customer_since': 4, 'loyalty_card_number': 5, 'birthdate': 6, 'gender': 7, 'birth_year': 8})\n",
            "Row((701, 3, 'Donovan Trevino', 'Miranda@eget.com', datetime.date(2017, 1, 10), '127-289-9961', datetime.date(1950, 9, 30), 'N', 1950), {'customer_id': 0, 'home_store': 1, 'customer_first_name': 2, 'customer_email': 3, 'customer_since': 4, 'loyalty_card_number': 5, 'birthdate': 6, 'gender': 7, 'birth_year': 8})\n",
            "Row((302, 3, 'Sacha Wall', 'Yvette@erat.org', datetime.date(2017, 1, 6), '433-102-9277', datetime.date(1950, 6, 29), 'F', 1950), {'customer_id': 0, 'home_store': 1, 'customer_first_name': 2, 'customer_email': 3, 'customer_since': 4, 'loyalty_card_number': 5, 'birthdate': 6, 'gender': 7, 'birth_year': 8})\n",
            "Row((304, 3, 'Belle Reyes', 'Sierra@sodales.net', datetime.date(2017, 1, 10), '930-000-5889', datetime.date(1950, 9, 30), 'F', 1950), {'customer_id': 0, 'home_store': 1, 'customer_first_name': 2, 'customer_email': 3, 'customer_since': 4, 'loyalty_card_number': 5, 'birthdate': 6, 'gender': 7, 'birth_year': 8})\n",
            "Row((301, 3, 'Alika Rivas', 'Yoshi@aliquam.us', datetime.date(2017, 1, 4), '021-443-0682', datetime.date(1950, 5, 13), 'F', 1950), {'customer_id': 0, 'home_store': 1, 'customer_first_name': 2, 'customer_email': 3, 'customer_since': 4, 'loyalty_card_number': 5, 'birthdate': 6, 'gender': 7, 'birth_year': 8})\n",
            "Row((2, 3, 'Clark Schroeder', 'Nora@fames.gov', datetime.date(2017, 1, 7), '032-732-6308', datetime.date(1950, 7, 30), 'M', 1950), {'customer_id': 0, 'home_store': 1, 'customer_first_name': 2, 'customer_email': 3, 'customer_since': 4, 'loyalty_card_number': 5, 'birthdate': 6, 'gender': 7, 'birth_year': 8})\n",
            "Row((4, 3, 'Rafael Estes', 'Ina@non.gov', datetime.date(2017, 1, 13), '576-640-9226', datetime.date(1950, 12, 1), 'M', 1950), {'customer_id': 0, 'home_store': 1, 'customer_first_name': 2, 'customer_email': 3, 'customer_since': 4, 'loyalty_card_number': 5, 'birthdate': 6, 'gender': 7, 'birth_year': 8})\n"
          ]
        }
      ]
    },
    {
      "cell_type": "code",
      "source": [
        "product_category_name_translation"
      ],
      "metadata": {
        "id": "E5PFVjR-RLLs"
      },
      "execution_count": null,
      "outputs": []
    },
    {
      "cell_type": "code",
      "source": [
        "import pandas as pd\n",
        "df=pd.read_csv('product_category_name_translation.csv')\n"
      ],
      "metadata": {
        "id": "HS3p0Dr9RPbZ"
      },
      "execution_count": 13,
      "outputs": []
    },
    {
      "cell_type": "code",
      "source": [
        "import pandas_gbq"
      ],
      "metadata": {
        "id": "dgC5NpWTSEis"
      },
      "execution_count": 14,
      "outputs": []
    },
    {
      "cell_type": "code",
      "source": [
        "# Set the name of your table and your Pandas DataFrame\n",
        "table_name = 'product_category_name_translation'\n",
        "# Upload your DataFrame to BigQuery\n",
        "pandas_gbq.to_gbq(df, f'{dataset_id}.{table_name}', project_id=project_id, if_exists='replace')"
      ],
      "metadata": {
        "colab": {
          "base_uri": "https://localhost:8080/"
        },
        "id": "7YR-oAHXR7h_",
        "outputId": "83839e13-84d2-4b3c-e25d-054b34a1eea2"
      },
      "execution_count": 15,
      "outputs": [
        {
          "output_type": "stream",
          "name": "stderr",
          "text": [
            "100%|██████████| 1/1 [00:00<00:00, 6732.43it/s]\n"
          ]
        }
      ]
    },
    {
      "cell_type": "code",
      "source": [
        "df_customer=pd.read_csv('olist_customers_dataset.csv')"
      ],
      "metadata": {
        "id": "lTCNCXIbTBOQ"
      },
      "execution_count": 35,
      "outputs": []
    },
    {
      "cell_type": "code",
      "source": [
        "df_customer['customer_city'] = df_customer['customer_city'].str.title()\n",
        "df_customer.head()"
      ],
      "metadata": {
        "colab": {
          "base_uri": "https://localhost:8080/",
          "height": 206
        },
        "id": "RZaTxSdUUnZ0",
        "outputId": "0046601c-4008-431d-9fe6-eba68d1b17fc"
      },
      "execution_count": 36,
      "outputs": [
        {
          "output_type": "execute_result",
          "data": {
            "text/plain": [
              "                        customer_id                customer_unique_id  \\\n",
              "0  06b8999e2fba1a1fbc88172c00ba8bc7  861eff4711a542e4b93843c6dd7febb0   \n",
              "1  18955e83d337fd6b2def6b18a428ac77  290c77bc529b7ac935b93aa66c333dc3   \n",
              "2  4e7b3e00288586ebd08712fdd0374a03  060e732b5b29e8181a18229c7b0b2b5e   \n",
              "3  b2b6027bc5c5109e529d4dc6358b12c3  259dac757896d24d7702b9acbbff3f3c   \n",
              "4  4f2d8ab171c80ec8364f7c12e35b23ad  345ecd01c38d18a9036ed96c73b8d066   \n",
              "\n",
              "   customer_zip_code_prefix          customer_city customer_state  \n",
              "0                     14409                 Franca             SP  \n",
              "1                      9790  Sao Bernardo Do Campo             SP  \n",
              "2                      1151              Sao Paulo             SP  \n",
              "3                      8775        Mogi Das Cruzes             SP  \n",
              "4                     13056               Campinas             SP  "
            ],
            "text/html": [
              "\n",
              "  <div id=\"df-67436a5a-a0b5-4872-8315-2a6a916158db\">\n",
              "    <div class=\"colab-df-container\">\n",
              "      <div>\n",
              "<style scoped>\n",
              "    .dataframe tbody tr th:only-of-type {\n",
              "        vertical-align: middle;\n",
              "    }\n",
              "\n",
              "    .dataframe tbody tr th {\n",
              "        vertical-align: top;\n",
              "    }\n",
              "\n",
              "    .dataframe thead th {\n",
              "        text-align: right;\n",
              "    }\n",
              "</style>\n",
              "<table border=\"1\" class=\"dataframe\">\n",
              "  <thead>\n",
              "    <tr style=\"text-align: right;\">\n",
              "      <th></th>\n",
              "      <th>customer_id</th>\n",
              "      <th>customer_unique_id</th>\n",
              "      <th>customer_zip_code_prefix</th>\n",
              "      <th>customer_city</th>\n",
              "      <th>customer_state</th>\n",
              "    </tr>\n",
              "  </thead>\n",
              "  <tbody>\n",
              "    <tr>\n",
              "      <th>0</th>\n",
              "      <td>06b8999e2fba1a1fbc88172c00ba8bc7</td>\n",
              "      <td>861eff4711a542e4b93843c6dd7febb0</td>\n",
              "      <td>14409</td>\n",
              "      <td>Franca</td>\n",
              "      <td>SP</td>\n",
              "    </tr>\n",
              "    <tr>\n",
              "      <th>1</th>\n",
              "      <td>18955e83d337fd6b2def6b18a428ac77</td>\n",
              "      <td>290c77bc529b7ac935b93aa66c333dc3</td>\n",
              "      <td>9790</td>\n",
              "      <td>Sao Bernardo Do Campo</td>\n",
              "      <td>SP</td>\n",
              "    </tr>\n",
              "    <tr>\n",
              "      <th>2</th>\n",
              "      <td>4e7b3e00288586ebd08712fdd0374a03</td>\n",
              "      <td>060e732b5b29e8181a18229c7b0b2b5e</td>\n",
              "      <td>1151</td>\n",
              "      <td>Sao Paulo</td>\n",
              "      <td>SP</td>\n",
              "    </tr>\n",
              "    <tr>\n",
              "      <th>3</th>\n",
              "      <td>b2b6027bc5c5109e529d4dc6358b12c3</td>\n",
              "      <td>259dac757896d24d7702b9acbbff3f3c</td>\n",
              "      <td>8775</td>\n",
              "      <td>Mogi Das Cruzes</td>\n",
              "      <td>SP</td>\n",
              "    </tr>\n",
              "    <tr>\n",
              "      <th>4</th>\n",
              "      <td>4f2d8ab171c80ec8364f7c12e35b23ad</td>\n",
              "      <td>345ecd01c38d18a9036ed96c73b8d066</td>\n",
              "      <td>13056</td>\n",
              "      <td>Campinas</td>\n",
              "      <td>SP</td>\n",
              "    </tr>\n",
              "  </tbody>\n",
              "</table>\n",
              "</div>\n",
              "      <button class=\"colab-df-convert\" onclick=\"convertToInteractive('df-67436a5a-a0b5-4872-8315-2a6a916158db')\"\n",
              "              title=\"Convert this dataframe to an interactive table.\"\n",
              "              style=\"display:none;\">\n",
              "        \n",
              "  <svg xmlns=\"http://www.w3.org/2000/svg\" height=\"24px\"viewBox=\"0 0 24 24\"\n",
              "       width=\"24px\">\n",
              "    <path d=\"M0 0h24v24H0V0z\" fill=\"none\"/>\n",
              "    <path d=\"M18.56 5.44l.94 2.06.94-2.06 2.06-.94-2.06-.94-.94-2.06-.94 2.06-2.06.94zm-11 1L8.5 8.5l.94-2.06 2.06-.94-2.06-.94L8.5 2.5l-.94 2.06-2.06.94zm10 10l.94 2.06.94-2.06 2.06-.94-2.06-.94-.94-2.06-.94 2.06-2.06.94z\"/><path d=\"M17.41 7.96l-1.37-1.37c-.4-.4-.92-.59-1.43-.59-.52 0-1.04.2-1.43.59L10.3 9.45l-7.72 7.72c-.78.78-.78 2.05 0 2.83L4 21.41c.39.39.9.59 1.41.59.51 0 1.02-.2 1.41-.59l7.78-7.78 2.81-2.81c.8-.78.8-2.07 0-2.86zM5.41 20L4 18.59l7.72-7.72 1.47 1.35L5.41 20z\"/>\n",
              "  </svg>\n",
              "      </button>\n",
              "      \n",
              "  <style>\n",
              "    .colab-df-container {\n",
              "      display:flex;\n",
              "      flex-wrap:wrap;\n",
              "      gap: 12px;\n",
              "    }\n",
              "\n",
              "    .colab-df-convert {\n",
              "      background-color: #E8F0FE;\n",
              "      border: none;\n",
              "      border-radius: 50%;\n",
              "      cursor: pointer;\n",
              "      display: none;\n",
              "      fill: #1967D2;\n",
              "      height: 32px;\n",
              "      padding: 0 0 0 0;\n",
              "      width: 32px;\n",
              "    }\n",
              "\n",
              "    .colab-df-convert:hover {\n",
              "      background-color: #E2EBFA;\n",
              "      box-shadow: 0px 1px 2px rgba(60, 64, 67, 0.3), 0px 1px 3px 1px rgba(60, 64, 67, 0.15);\n",
              "      fill: #174EA6;\n",
              "    }\n",
              "\n",
              "    [theme=dark] .colab-df-convert {\n",
              "      background-color: #3B4455;\n",
              "      fill: #D2E3FC;\n",
              "    }\n",
              "\n",
              "    [theme=dark] .colab-df-convert:hover {\n",
              "      background-color: #434B5C;\n",
              "      box-shadow: 0px 1px 3px 1px rgba(0, 0, 0, 0.15);\n",
              "      filter: drop-shadow(0px 1px 2px rgba(0, 0, 0, 0.3));\n",
              "      fill: #FFFFFF;\n",
              "    }\n",
              "  </style>\n",
              "\n",
              "      <script>\n",
              "        const buttonEl =\n",
              "          document.querySelector('#df-67436a5a-a0b5-4872-8315-2a6a916158db button.colab-df-convert');\n",
              "        buttonEl.style.display =\n",
              "          google.colab.kernel.accessAllowed ? 'block' : 'none';\n",
              "\n",
              "        async function convertToInteractive(key) {\n",
              "          const element = document.querySelector('#df-67436a5a-a0b5-4872-8315-2a6a916158db');\n",
              "          const dataTable =\n",
              "            await google.colab.kernel.invokeFunction('convertToInteractive',\n",
              "                                                     [key], {});\n",
              "          if (!dataTable) return;\n",
              "\n",
              "          const docLinkHtml = 'Like what you see? Visit the ' +\n",
              "            '<a target=\"_blank\" href=https://colab.research.google.com/notebooks/data_table.ipynb>data table notebook</a>'\n",
              "            + ' to learn more about interactive tables.';\n",
              "          element.innerHTML = '';\n",
              "          dataTable['output_type'] = 'display_data';\n",
              "          await google.colab.output.renderOutput(dataTable, element);\n",
              "          const docLink = document.createElement('div');\n",
              "          docLink.innerHTML = docLinkHtml;\n",
              "          element.appendChild(docLink);\n",
              "        }\n",
              "      </script>\n",
              "    </div>\n",
              "  </div>\n",
              "  "
            ]
          },
          "metadata": {},
          "execution_count": 36
        }
      ]
    },
    {
      "cell_type": "code",
      "source": [
        "df_customer=pd.read_csv('olist_customers_dataset.csv')\n",
        "\n",
        "#set City to caps\n",
        "df_customer['customer_city'] = df_customer['customer_city'].str.title()\n",
        "\n",
        "# Set the name of your table and your Pandas DataFrame\n",
        "table_name = 'olist_customers_dataset'\n",
        "# Upload your DataFrame to BigQuery\n",
        "pandas_gbq.to_gbq(df_customer, f'{dataset_id}.{table_name}', project_id=project_id, if_exists='replace')"
      ],
      "metadata": {
        "colab": {
          "base_uri": "https://localhost:8080/"
        },
        "id": "yq1ZrBMOTIUU",
        "outputId": "bb625793-732e-461f-c5ef-dcc70f04d0a3"
      },
      "execution_count": 37,
      "outputs": [
        {
          "output_type": "stream",
          "name": "stderr",
          "text": [
            "100%|██████████| 1/1 [00:00<00:00, 3246.37it/s]\n"
          ]
        }
      ]
    },
    {
      "cell_type": "code",
      "source": [
        "df_geoloacation=pd.read_csv('olist_geolocation_dataset.csv')\n",
        "# Set the name of your table and your Pandas DataFrame\n",
        "table_name = 'olist_geolocation_dataset'\n",
        "# Upload your DataFrame to BigQuery\n",
        "pandas_gbq.to_gbq(df_geoloacation, f'{dataset_id}.{table_name}', project_id=project_id, if_exists='replace')"
      ],
      "metadata": {
        "colab": {
          "base_uri": "https://localhost:8080/"
        },
        "id": "PdNvUqA4VN43",
        "outputId": "f9ebcc4c-2c13-4e32-cc00-25082498302f"
      },
      "execution_count": 21,
      "outputs": [
        {
          "output_type": "stream",
          "name": "stderr",
          "text": [
            "100%|██████████| 1/1 [00:00<00:00, 10205.12it/s]\n"
          ]
        }
      ]
    },
    {
      "cell_type": "code",
      "source": [
        "df=pd.read_csv('olist_order_items_dataset.csv')\n",
        "# Set the name of your table and your Pandas DataFrame\n",
        "table_name = 'olist_order_items_dataset'\n",
        "# Upload your DataFrame to BigQuery\n",
        "pandas_gbq.to_gbq(df, f'{dataset_id}.{table_name}', project_id=project_id, if_exists='replace')"
      ],
      "metadata": {
        "colab": {
          "base_uri": "https://localhost:8080/"
        },
        "id": "fwVz9jjuWTmK",
        "outputId": "693d5865-7826-49e8-c9f0-6a298dff660b"
      },
      "execution_count": 22,
      "outputs": [
        {
          "output_type": "stream",
          "name": "stderr",
          "text": [
            "100%|██████████| 1/1 [00:00<00:00, 2843.60it/s]\n"
          ]
        }
      ]
    },
    {
      "cell_type": "code",
      "source": [
        "df_geoloacation=pd.read_csv('olist_order_payments_dataset.csv')\n",
        "# Set the name of your table and your Pandas DataFrame\n",
        "table_name = 'olist_order_payments_dataset'\n",
        "# Upload your DataFrame to BigQuery\n",
        "pandas_gbq.to_gbq(df_geoloacation, f'{dataset_id}.{table_name}', project_id=project_id, if_exists='replace')"
      ],
      "metadata": {
        "colab": {
          "base_uri": "https://localhost:8080/"
        },
        "id": "5gm6QHa8WVqt",
        "outputId": "fc2bed14-3ef1-41f5-f12d-c122d48c5421"
      },
      "execution_count": 23,
      "outputs": [
        {
          "output_type": "stream",
          "name": "stderr",
          "text": [
            "100%|██████████| 1/1 [00:00<00:00, 1992.54it/s]\n"
          ]
        }
      ]
    },
    {
      "cell_type": "code",
      "source": [
        "df_geoloacation=pd.read_csv('olist_order_reviews_dataset.csv')\n",
        "# Set the name of your table and your Pandas DataFrame\n",
        "table_name = 'olist_order_reviews_dataset'\n",
        "# Upload your DataFrame to BigQuery\n",
        "pandas_gbq.to_gbq(df_geoloacation, f'{dataset_id}.{table_name}', project_id=project_id, if_exists='replace')"
      ],
      "metadata": {
        "colab": {
          "base_uri": "https://localhost:8080/"
        },
        "id": "EHhoS6NpWWCj",
        "outputId": "723d27aa-04cd-461d-dee3-eeb975893032"
      },
      "execution_count": 24,
      "outputs": [
        {
          "output_type": "stream",
          "name": "stderr",
          "text": [
            "100%|██████████| 1/1 [00:00<00:00, 2685.21it/s]\n"
          ]
        }
      ]
    },
    {
      "cell_type": "code",
      "source": [
        "df_geoloacation=pd.read_csv('olist_orders_dataset.csv')\n",
        "# Set the name of your table and your Pandas DataFrame\n",
        "table_name = 'olist_orders_dataset'\n",
        "# Upload your DataFrame to BigQuery\n",
        "pandas_gbq.to_gbq(df_geoloacation, f'{dataset_id}.{table_name}', project_id=project_id, if_exists='replace')"
      ],
      "metadata": {
        "colab": {
          "base_uri": "https://localhost:8080/"
        },
        "id": "owtx6Ca7WWVk",
        "outputId": "7048ff46-7867-44f8-905b-1e7aec81a4a5"
      },
      "execution_count": 25,
      "outputs": [
        {
          "output_type": "stream",
          "name": "stderr",
          "text": [
            "100%|██████████| 1/1 [00:00<00:00, 8507.72it/s]\n"
          ]
        }
      ]
    },
    {
      "cell_type": "code",
      "source": [
        "df_geoloacation=pd.read_csv('olist_products_dataset.csv')\n",
        "# Set the name of your table and your Pandas DataFrame\n",
        "table_name = 'olist_products_dataset'\n",
        "# Upload your DataFrame to BigQuery\n",
        "pandas_gbq.to_gbq(df_geoloacation, f'{dataset_id}.{table_name}', project_id=project_id, if_exists='replace')"
      ],
      "metadata": {
        "colab": {
          "base_uri": "https://localhost:8080/"
        },
        "id": "1kVqQgOXWWk7",
        "outputId": "5fa79032-cdb2-435d-ca3e-0117ebde2dc3"
      },
      "execution_count": 26,
      "outputs": [
        {
          "output_type": "stream",
          "name": "stderr",
          "text": [
            "100%|██████████| 1/1 [00:00<00:00, 2779.53it/s]\n"
          ]
        }
      ]
    },
    {
      "cell_type": "code",
      "source": [
        "df_geoloacation=pd.read_csv('olist_sellers_dataset.csv')\n",
        "# Set the name of your table and your Pandas DataFrame\n",
        "table_name = 'olist_sellers_dataset'\n",
        "# Upload your DataFrame to BigQuery\n",
        "pandas_gbq.to_gbq(df_geoloacation, f'{dataset_id}.{table_name}', project_id=project_id, if_exists='replace')"
      ],
      "metadata": {
        "colab": {
          "base_uri": "https://localhost:8080/"
        },
        "id": "veaA9vWIWW0m",
        "outputId": "f615e061-b512-4bca-d77e-c143efef3b3d"
      },
      "execution_count": 27,
      "outputs": [
        {
          "output_type": "stream",
          "name": "stderr",
          "text": [
            "100%|██████████| 1/1 [00:00<00:00, 2129.09it/s]\n"
          ]
        }
      ]
    }
  ]
}