{
  "nbformat": 4,
  "nbformat_minor": 0,
  "metadata": {
    "colab": {
      "provenance": [],
      "authorship_tag": "ABX9TyOJoLpKNYI1MF3wE5nm5MMI",
      "include_colab_link": true
    },
    "kernelspec": {
      "name": "python3",
      "display_name": "Python 3"
    },
    "language_info": {
      "name": "python"
    }
  },
  "cells": [
    {
      "cell_type": "markdown",
      "metadata": {
        "id": "view-in-github",
        "colab_type": "text"
      },
      "source": [
        "<a href=\"https://colab.research.google.com/github/Clarison/Dataengineering/blob/main/dataendinpython.ipynb\" target=\"_parent\"><img src=\"https://colab.research.google.com/assets/colab-badge.svg\" alt=\"Open In Colab\"/></a>"
      ]
    },
    {
      "cell_type": "code",
      "execution_count": null,
      "metadata": {
        "id": "p9Rtb2XhKQUA"
      },
      "outputs": [],
      "source": [
        "pip install google-cloud-bigquery\n"
      ]
    },
    {
      "cell_type": "code",
      "source": [
        "from google.colab import auth\n",
        "auth.authenticate_user()\n",
        "\n"
      ],
      "metadata": {
        "id": "Tyk06Tj8Kzne"
      },
      "execution_count": 5,
      "outputs": []
    },
    {
      "cell_type": "code",
      "source": [
        "project_id = 'lab7-381519'\n",
        "dataset_id=\"7375\""
      ],
      "metadata": {
        "id": "GSltnaWVOumh"
      },
      "execution_count": 6,
      "outputs": []
    },
    {
      "cell_type": "code",
      "source": [
        "from google.cloud import bigquery\n",
        "client = bigquery.Client(project=project_id)\n",
        "dataset_ref = client.dataset(dataset_id, project=\"lab7-381519\")\n",
        "dataset = client.get_dataset(dataset_ref)\n",
        "\n",
        "# Construct a reference to the BigQuery table you want to query\n",
        "table_ref = client.dataset(dataset_id).table('customer')\n",
        "\n",
        "# Construct a SQL query\n",
        "query = \"\"\"\n",
        "    SELECT * FROM `lab7-381519.7375.customer` LIMIT 10;\n",
        "\"\"\"\n",
        "\n",
        "# Use the client object to submit the query and fetch the results\n",
        "query_job = client.query(query)\n",
        "results = query_job.result()\n",
        "\n",
        "# Print the results\n",
        "for row in results:\n",
        "    print(row)"
      ],
      "metadata": {
        "colab": {
          "base_uri": "https://localhost:8080/"
        },
        "id": "yYzO_000OwCH",
        "outputId": "2e33ef8f-824b-4acc-ac62-52cf2b23ec30"
      },
      "execution_count": 7,
      "outputs": [
        {
          "output_type": "stream",
          "name": "stdout",
          "text": [
            "Row((1, 3, 'Kelly Key', 'Venus@adipiscing.edu', datetime.date(2017, 1, 4), '908-424-2890', datetime.date(1950, 5, 29), 'M', 1950), {'customer_id': 0, 'home_store': 1, 'customer_first_name': 2, 'customer_email': 3, 'customer_since': 4, 'loyalty_card_number': 5, 'birthdate': 6, 'gender': 7, 'birth_year': 8})\n",
            "Row((3, 3, 'Elvis Cardenas', 'Brianna@tellus.edu', datetime.date(2017, 1, 10), '459-375-9187', datetime.date(1950, 9, 30), 'M', 1950), {'customer_id': 0, 'home_store': 1, 'customer_first_name': 2, 'customer_email': 3, 'customer_since': 4, 'loyalty_card_number': 5, 'birthdate': 6, 'gender': 7, 'birth_year': 8})\n",
            "Row((305, 3, 'Brooke Munoz', 'William@montes.com', datetime.date(2017, 1, 12), '573-552-0754', datetime.date(1950, 11, 16), 'F', 1950), {'customer_id': 0, 'home_store': 1, 'customer_first_name': 2, 'customer_email': 3, 'customer_since': 4, 'loyalty_card_number': 5, 'birthdate': 6, 'gender': 7, 'birth_year': 8})\n",
            "Row((303, 3, 'Raya Hampton', 'Martina@malesuada.com', datetime.date(2017, 1, 8), '478-762-8984', datetime.date(1950, 8, 14), 'F', 1950), {'customer_id': 0, 'home_store': 1, 'customer_first_name': 2, 'customer_email': 3, 'customer_since': 4, 'loyalty_card_number': 5, 'birthdate': 6, 'gender': 7, 'birth_year': 8})\n",
            "Row((701, 3, 'Donovan Trevino', 'Miranda@eget.com', datetime.date(2017, 1, 10), '127-289-9961', datetime.date(1950, 9, 30), 'N', 1950), {'customer_id': 0, 'home_store': 1, 'customer_first_name': 2, 'customer_email': 3, 'customer_since': 4, 'loyalty_card_number': 5, 'birthdate': 6, 'gender': 7, 'birth_year': 8})\n",
            "Row((302, 3, 'Sacha Wall', 'Yvette@erat.org', datetime.date(2017, 1, 6), '433-102-9277', datetime.date(1950, 6, 29), 'F', 1950), {'customer_id': 0, 'home_store': 1, 'customer_first_name': 2, 'customer_email': 3, 'customer_since': 4, 'loyalty_card_number': 5, 'birthdate': 6, 'gender': 7, 'birth_year': 8})\n",
            "Row((304, 3, 'Belle Reyes', 'Sierra@sodales.net', datetime.date(2017, 1, 10), '930-000-5889', datetime.date(1950, 9, 30), 'F', 1950), {'customer_id': 0, 'home_store': 1, 'customer_first_name': 2, 'customer_email': 3, 'customer_since': 4, 'loyalty_card_number': 5, 'birthdate': 6, 'gender': 7, 'birth_year': 8})\n",
            "Row((301, 3, 'Alika Rivas', 'Yoshi@aliquam.us', datetime.date(2017, 1, 4), '021-443-0682', datetime.date(1950, 5, 13), 'F', 1950), {'customer_id': 0, 'home_store': 1, 'customer_first_name': 2, 'customer_email': 3, 'customer_since': 4, 'loyalty_card_number': 5, 'birthdate': 6, 'gender': 7, 'birth_year': 8})\n",
            "Row((2, 3, 'Clark Schroeder', 'Nora@fames.gov', datetime.date(2017, 1, 7), '032-732-6308', datetime.date(1950, 7, 30), 'M', 1950), {'customer_id': 0, 'home_store': 1, 'customer_first_name': 2, 'customer_email': 3, 'customer_since': 4, 'loyalty_card_number': 5, 'birthdate': 6, 'gender': 7, 'birth_year': 8})\n",
            "Row((4, 3, 'Rafael Estes', 'Ina@non.gov', datetime.date(2017, 1, 13), '576-640-9226', datetime.date(1950, 12, 1), 'M', 1950), {'customer_id': 0, 'home_store': 1, 'customer_first_name': 2, 'customer_email': 3, 'customer_since': 4, 'loyalty_card_number': 5, 'birthdate': 6, 'gender': 7, 'birth_year': 8})\n"
          ]
        }
      ]
    },
    {
      "cell_type": "code",
      "source": [
        "product_category_name_translation"
      ],
      "metadata": {
        "id": "E5PFVjR-RLLs"
      },
      "execution_count": null,
      "outputs": []
    },
    {
      "cell_type": "code",
      "source": [
        "import pandas as pd\n",
        "df=pd.read_csv('product_category_name_translation.csv')\n"
      ],
      "metadata": {
        "id": "HS3p0Dr9RPbZ"
      },
      "execution_count": 13,
      "outputs": []
    },
    {
      "cell_type": "code",
      "source": [
        "import pandas_gbq"
      ],
      "metadata": {
        "id": "dgC5NpWTSEis"
      },
      "execution_count": 14,
      "outputs": []
    },
    {
      "cell_type": "code",
      "source": [
        "# Set the name of your table and your Pandas DataFrame\n",
        "table_name = 'product_category_name_translation'\n",
        "# Upload your DataFrame to BigQuery\n",
        "pandas_gbq.to_gbq(df, f'{dataset_id}.{table_name}', project_id=project_id, if_exists='replace')"
      ],
      "metadata": {
        "colab": {
          "base_uri": "https://localhost:8080/"
        },
        "id": "7YR-oAHXR7h_",
        "outputId": "83839e13-84d2-4b3c-e25d-054b34a1eea2"
      },
      "execution_count": 15,
      "outputs": [
        {
          "output_type": "stream",
          "name": "stderr",
          "text": [
            "100%|██████████| 1/1 [00:00<00:00, 6732.43it/s]\n"
          ]
        }
      ]
    },
    {
      "cell_type": "code",
      "source": [
        "df_customer=pd.read_csv('olist_customers_dataset.csv')"
      ],
      "metadata": {
        "id": "lTCNCXIbTBOQ"
      },
      "execution_count": 16,
      "outputs": []
    },
    {
      "cell_type": "code",
      "source": [
        "df_customer.head()"
      ],
      "metadata": {
        "id": "RZaTxSdUUnZ0"
      },
      "execution_count": null,
      "outputs": []
    },
    {
      "cell_type": "code",
      "source": [
        "# Set the name of your table and your Pandas DataFrame\n",
        "table_name = 'olist_customers_dataset'\n",
        "# Upload your DataFrame to BigQuery\n",
        "pandas_gbq.to_gbq(df_customer, f'{dataset_id}.{table_name}', project_id=project_id, if_exists='replace')"
      ],
      "metadata": {
        "colab": {
          "base_uri": "https://localhost:8080/"
        },
        "id": "yq1ZrBMOTIUU",
        "outputId": "9b4d83ab-cd3b-47cb-ba80-299274b8f10a"
      },
      "execution_count": 20,
      "outputs": [
        {
          "output_type": "stream",
          "name": "stderr",
          "text": [
            "100%|██████████| 1/1 [00:00<00:00, 2078.45it/s]\n"
          ]
        }
      ]
    },
    {
      "cell_type": "code",
      "source": [
        "df_geoloacation=pd.read_csv('olist_geolocation_dataset.csv')\n",
        "# Set the name of your table and your Pandas DataFrame\n",
        "table_name = 'olist_geolocation_dataset'\n",
        "# Upload your DataFrame to BigQuery\n",
        "pandas_gbq.to_gbq(df_geoloacation, f'{dataset_id}.{table_name}', project_id=project_id, if_exists='replace')"
      ],
      "metadata": {
        "colab": {
          "base_uri": "https://localhost:8080/"
        },
        "id": "PdNvUqA4VN43",
        "outputId": "f9ebcc4c-2c13-4e32-cc00-25082498302f"
      },
      "execution_count": 21,
      "outputs": [
        {
          "output_type": "stream",
          "name": "stderr",
          "text": [
            "100%|██████████| 1/1 [00:00<00:00, 10205.12it/s]\n"
          ]
        }
      ]
    },
    {
      "cell_type": "code",
      "source": [
        "df=pd.read_csv('olist_order_items_dataset.csv')\n",
        "# Set the name of your table and your Pandas DataFrame\n",
        "table_name = 'olist_order_items_dataset'\n",
        "# Upload your DataFrame to BigQuery\n",
        "pandas_gbq.to_gbq(df, f'{dataset_id}.{table_name}', project_id=project_id, if_exists='replace')"
      ],
      "metadata": {
        "colab": {
          "base_uri": "https://localhost:8080/"
        },
        "id": "fwVz9jjuWTmK",
        "outputId": "693d5865-7826-49e8-c9f0-6a298dff660b"
      },
      "execution_count": 22,
      "outputs": [
        {
          "output_type": "stream",
          "name": "stderr",
          "text": [
            "100%|██████████| 1/1 [00:00<00:00, 2843.60it/s]\n"
          ]
        }
      ]
    },
    {
      "cell_type": "code",
      "source": [
        "df_geoloacation=pd.read_csv('olist_order_payments_dataset.csv')\n",
        "# Set the name of your table and your Pandas DataFrame\n",
        "table_name = 'olist_order_payments_dataset'\n",
        "# Upload your DataFrame to BigQuery\n",
        "pandas_gbq.to_gbq(df_geoloacation, f'{dataset_id}.{table_name}', project_id=project_id, if_exists='replace')"
      ],
      "metadata": {
        "colab": {
          "base_uri": "https://localhost:8080/"
        },
        "id": "5gm6QHa8WVqt",
        "outputId": "fc2bed14-3ef1-41f5-f12d-c122d48c5421"
      },
      "execution_count": 23,
      "outputs": [
        {
          "output_type": "stream",
          "name": "stderr",
          "text": [
            "100%|██████████| 1/1 [00:00<00:00, 1992.54it/s]\n"
          ]
        }
      ]
    },
    {
      "cell_type": "code",
      "source": [
        "df_geoloacation=pd.read_csv('olist_order_reviews_dataset.csv')\n",
        "# Set the name of your table and your Pandas DataFrame\n",
        "table_name = 'olist_order_reviews_dataset'\n",
        "# Upload your DataFrame to BigQuery\n",
        "pandas_gbq.to_gbq(df_geoloacation, f'{dataset_id}.{table_name}', project_id=project_id, if_exists='replace')"
      ],
      "metadata": {
        "colab": {
          "base_uri": "https://localhost:8080/"
        },
        "id": "EHhoS6NpWWCj",
        "outputId": "723d27aa-04cd-461d-dee3-eeb975893032"
      },
      "execution_count": 24,
      "outputs": [
        {
          "output_type": "stream",
          "name": "stderr",
          "text": [
            "100%|██████████| 1/1 [00:00<00:00, 2685.21it/s]\n"
          ]
        }
      ]
    },
    {
      "cell_type": "code",
      "source": [
        "df_geoloacation=pd.read_csv('olist_orders_dataset.csv')\n",
        "# Set the name of your table and your Pandas DataFrame\n",
        "table_name = 'olist_orders_dataset'\n",
        "# Upload your DataFrame to BigQuery\n",
        "pandas_gbq.to_gbq(df_geoloacation, f'{dataset_id}.{table_name}', project_id=project_id, if_exists='replace')"
      ],
      "metadata": {
        "colab": {
          "base_uri": "https://localhost:8080/"
        },
        "id": "owtx6Ca7WWVk",
        "outputId": "7048ff46-7867-44f8-905b-1e7aec81a4a5"
      },
      "execution_count": 25,
      "outputs": [
        {
          "output_type": "stream",
          "name": "stderr",
          "text": [
            "100%|██████████| 1/1 [00:00<00:00, 8507.72it/s]\n"
          ]
        }
      ]
    },
    {
      "cell_type": "code",
      "source": [
        "df_geoloacation=pd.read_csv('olist_products_dataset.csv')\n",
        "# Set the name of your table and your Pandas DataFrame\n",
        "table_name = 'olist_products_dataset'\n",
        "# Upload your DataFrame to BigQuery\n",
        "pandas_gbq.to_gbq(df_geoloacation, f'{dataset_id}.{table_name}', project_id=project_id, if_exists='replace')"
      ],
      "metadata": {
        "colab": {
          "base_uri": "https://localhost:8080/"
        },
        "id": "1kVqQgOXWWk7",
        "outputId": "5fa79032-cdb2-435d-ca3e-0117ebde2dc3"
      },
      "execution_count": 26,
      "outputs": [
        {
          "output_type": "stream",
          "name": "stderr",
          "text": [
            "100%|██████████| 1/1 [00:00<00:00, 2779.53it/s]\n"
          ]
        }
      ]
    },
    {
      "cell_type": "code",
      "source": [
        "df_geoloacation=pd.read_csv('olist_sellers_dataset.csv')\n",
        "# Set the name of your table and your Pandas DataFrame\n",
        "table_name = 'olist_sellers_dataset'\n",
        "# Upload your DataFrame to BigQuery\n",
        "pandas_gbq.to_gbq(df_geoloacation, f'{dataset_id}.{table_name}', project_id=project_id, if_exists='replace')"
      ],
      "metadata": {
        "colab": {
          "base_uri": "https://localhost:8080/"
        },
        "id": "veaA9vWIWW0m",
        "outputId": "f615e061-b512-4bca-d77e-c143efef3b3d"
      },
      "execution_count": 27,
      "outputs": [
        {
          "output_type": "stream",
          "name": "stderr",
          "text": [
            "100%|██████████| 1/1 [00:00<00:00, 2129.09it/s]\n"
          ]
        }
      ]
    }
  ]
}